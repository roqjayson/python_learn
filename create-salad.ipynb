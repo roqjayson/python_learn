def make_salad(size, *ingred):
    '''summarize the salad we are making'''
    print(f"Makine a {size} salad with the following ingrediants:")
    for ing in ingred:
        print(f" - {ing}")