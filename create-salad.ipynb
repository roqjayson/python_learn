def make_salad(size, *ingred):
    '''summarize the salad we are making'''
    print(f"Makine a {size} salad with the following ingredients:")
    for ing in ingred:
        print(f" - {ing}")